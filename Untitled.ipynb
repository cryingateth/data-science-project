{
 "cells": [
  {
   "cell_type": "code",
   "execution_count": 1,
   "id": "0aefd88b",
   "metadata": {},
   "outputs": [],
   "source": [
    "import matplotlib.pyplot as plt\n",
    "import numpy as np\n",
    "import pandas as pd\n",
    "import scipy.stats as sts\n",
    "import seaborn as sns"
   ]
  },
  {
   "cell_type": "code",
   "execution_count": 2,
   "id": "0ff9863f",
   "metadata": {
    "scrolled": false
   },
   "outputs": [
    {
     "data": {
      "text/html": [
       "<div>\n",
       "<style scoped>\n",
       "    .dataframe tbody tr th:only-of-type {\n",
       "        vertical-align: middle;\n",
       "    }\n",
       "\n",
       "    .dataframe tbody tr th {\n",
       "        vertical-align: top;\n",
       "    }\n",
       "\n",
       "    .dataframe thead th {\n",
       "        text-align: right;\n",
       "    }\n",
       "</style>\n",
       "<table border=\"1\" class=\"dataframe\">\n",
       "  <thead>\n",
       "    <tr style=\"text-align: right;\">\n",
       "      <th></th>\n",
       "      <th>Unnamed: 0</th>\n",
       "      <th>ARHGEF10L</th>\n",
       "      <th>HIF3A</th>\n",
       "      <th>RNF17</th>\n",
       "      <th>RNF10</th>\n",
       "      <th>RNF11</th>\n",
       "      <th>RNF13</th>\n",
       "      <th>GTF2IP1</th>\n",
       "      <th>REM1</th>\n",
       "      <th>MTVR2</th>\n",
       "      <th>...</th>\n",
       "      <th>TULP2</th>\n",
       "      <th>NPY5R</th>\n",
       "      <th>GNGT2</th>\n",
       "      <th>GNGT1</th>\n",
       "      <th>TULP3</th>\n",
       "      <th>PTRF</th>\n",
       "      <th>BCL6B</th>\n",
       "      <th>GSTK1</th>\n",
       "      <th>SELP</th>\n",
       "      <th>SELS</th>\n",
       "    </tr>\n",
       "  </thead>\n",
       "  <tbody>\n",
       "    <tr>\n",
       "      <th>0</th>\n",
       "      <td>TCGA-AR-A5QQ-01</td>\n",
       "      <td>9.5074</td>\n",
       "      <td>1.5787</td>\n",
       "      <td>0.0000</td>\n",
       "      <td>11.3676</td>\n",
       "      <td>11.1292</td>\n",
       "      <td>9.9722</td>\n",
       "      <td>11.5966</td>\n",
       "      <td>3.2396</td>\n",
       "      <td>0.0000</td>\n",
       "      <td>...</td>\n",
       "      <td>0.5819</td>\n",
       "      <td>0.0000</td>\n",
       "      <td>5.3307</td>\n",
       "      <td>0.5819</td>\n",
       "      <td>9.1928</td>\n",
       "      <td>13.8808</td>\n",
       "      <td>7.3830</td>\n",
       "      <td>11.4289</td>\n",
       "      <td>7.8456</td>\n",
       "      <td>10.7384</td>\n",
       "    </tr>\n",
       "    <tr>\n",
       "      <th>1</th>\n",
       "      <td>TCGA-D8-A1JA-01</td>\n",
       "      <td>7.4346</td>\n",
       "      <td>3.6607</td>\n",
       "      <td>0.6245</td>\n",
       "      <td>11.9181</td>\n",
       "      <td>13.5273</td>\n",
       "      <td>10.8702</td>\n",
       "      <td>12.3048</td>\n",
       "      <td>2.5547</td>\n",
       "      <td>0.0000</td>\n",
       "      <td>...</td>\n",
       "      <td>1.0589</td>\n",
       "      <td>0.0000</td>\n",
       "      <td>3.1017</td>\n",
       "      <td>3.7793</td>\n",
       "      <td>9.8340</td>\n",
       "      <td>10.7066</td>\n",
       "      <td>7.2467</td>\n",
       "      <td>9.1673</td>\n",
       "      <td>0.0000</td>\n",
       "      <td>10.1225</td>\n",
       "    </tr>\n",
       "    <tr>\n",
       "      <th>2</th>\n",
       "      <td>TCGA-BH-A0BQ-01</td>\n",
       "      <td>9.3216</td>\n",
       "      <td>2.7224</td>\n",
       "      <td>0.5526</td>\n",
       "      <td>11.9665</td>\n",
       "      <td>11.4105</td>\n",
       "      <td>10.4406</td>\n",
       "      <td>12.8186</td>\n",
       "      <td>4.7115</td>\n",
       "      <td>0.0000</td>\n",
       "      <td>...</td>\n",
       "      <td>0.0000</td>\n",
       "      <td>2.7224</td>\n",
       "      <td>4.2976</td>\n",
       "      <td>0.0000</td>\n",
       "      <td>9.2304</td>\n",
       "      <td>12.9973</td>\n",
       "      <td>8.3374</td>\n",
       "      <td>11.3400</td>\n",
       "      <td>8.3765</td>\n",
       "      <td>9.9367</td>\n",
       "    </tr>\n",
       "    <tr>\n",
       "      <th>3</th>\n",
       "      <td>TCGA-BH-A0BT-01</td>\n",
       "      <td>9.0198</td>\n",
       "      <td>1.3414</td>\n",
       "      <td>0.0000</td>\n",
       "      <td>13.1881</td>\n",
       "      <td>11.0911</td>\n",
       "      <td>10.4244</td>\n",
       "      <td>12.6427</td>\n",
       "      <td>2.7553</td>\n",
       "      <td>0.0000</td>\n",
       "      <td>...</td>\n",
       "      <td>0.0000</td>\n",
       "      <td>2.9823</td>\n",
       "      <td>4.3067</td>\n",
       "      <td>0.0000</td>\n",
       "      <td>8.7816</td>\n",
       "      <td>12.3298</td>\n",
       "      <td>7.7036</td>\n",
       "      <td>11.3025</td>\n",
       "      <td>7.0585</td>\n",
       "      <td>9.3784</td>\n",
       "    </tr>\n",
       "    <tr>\n",
       "      <th>4</th>\n",
       "      <td>TCGA-A8-A06X-01</td>\n",
       "      <td>9.6417</td>\n",
       "      <td>0.5819</td>\n",
       "      <td>0.0000</td>\n",
       "      <td>12.0036</td>\n",
       "      <td>11.2545</td>\n",
       "      <td>10.1480</td>\n",
       "      <td>12.6622</td>\n",
       "      <td>4.2765</td>\n",
       "      <td>1.8007</td>\n",
       "      <td>...</td>\n",
       "      <td>1.3163</td>\n",
       "      <td>0.5819</td>\n",
       "      <td>3.5764</td>\n",
       "      <td>0.0000</td>\n",
       "      <td>9.3024</td>\n",
       "      <td>11.3338</td>\n",
       "      <td>7.7186</td>\n",
       "      <td>10.6898</td>\n",
       "      <td>7.0992</td>\n",
       "      <td>11.1740</td>\n",
       "    </tr>\n",
       "    <tr>\n",
       "      <th>5</th>\n",
       "      <td>TCGA-A8-A096-01</td>\n",
       "      <td>9.7665</td>\n",
       "      <td>0.2738</td>\n",
       "      <td>0.8765</td>\n",
       "      <td>11.8118</td>\n",
       "      <td>10.8554</td>\n",
       "      <td>10.4282</td>\n",
       "      <td>12.4810</td>\n",
       "      <td>4.3232</td>\n",
       "      <td>0.0000</td>\n",
       "      <td>...</td>\n",
       "      <td>0.0000</td>\n",
       "      <td>9.5174</td>\n",
       "      <td>5.3021</td>\n",
       "      <td>0.0000</td>\n",
       "      <td>9.1369</td>\n",
       "      <td>12.7711</td>\n",
       "      <td>8.7307</td>\n",
       "      <td>10.5158</td>\n",
       "      <td>5.9003</td>\n",
       "      <td>9.8729</td>\n",
       "    </tr>\n",
       "    <tr>\n",
       "      <th>6</th>\n",
       "      <td>TCGA-BH-A0C7-01</td>\n",
       "      <td>10.0931</td>\n",
       "      <td>3.6090</td>\n",
       "      <td>0.0000</td>\n",
       "      <td>11.3820</td>\n",
       "      <td>10.7663</td>\n",
       "      <td>10.3366</td>\n",
       "      <td>12.7240</td>\n",
       "      <td>2.2163</td>\n",
       "      <td>0.3340</td>\n",
       "      <td>...</td>\n",
       "      <td>0.6050</td>\n",
       "      <td>1.2032</td>\n",
       "      <td>3.8365</td>\n",
       "      <td>0.0000</td>\n",
       "      <td>9.5725</td>\n",
       "      <td>11.8181</td>\n",
       "      <td>7.9077</td>\n",
       "      <td>10.7539</td>\n",
       "      <td>6.5823</td>\n",
       "      <td>9.7063</td>\n",
       "    </tr>\n",
       "    <tr>\n",
       "      <th>7</th>\n",
       "      <td>TCGA-AC-A5XU-01</td>\n",
       "      <td>9.1524</td>\n",
       "      <td>0.4738</td>\n",
       "      <td>0.0000</td>\n",
       "      <td>11.5004</td>\n",
       "      <td>10.4358</td>\n",
       "      <td>10.4248</td>\n",
       "      <td>13.7292</td>\n",
       "      <td>5.8810</td>\n",
       "      <td>0.0000</td>\n",
       "      <td>...</td>\n",
       "      <td>0.0000</td>\n",
       "      <td>4.8185</td>\n",
       "      <td>3.6627</td>\n",
       "      <td>0.0000</td>\n",
       "      <td>9.5467</td>\n",
       "      <td>12.8073</td>\n",
       "      <td>8.9854</td>\n",
       "      <td>11.4017</td>\n",
       "      <td>4.1152</td>\n",
       "      <td>10.2758</td>\n",
       "    </tr>\n",
       "    <tr>\n",
       "      <th>8</th>\n",
       "      <td>TCGA-PE-A5DE-01</td>\n",
       "      <td>9.9398</td>\n",
       "      <td>2.9378</td>\n",
       "      <td>0.0000</td>\n",
       "      <td>12.2055</td>\n",
       "      <td>11.2210</td>\n",
       "      <td>9.8265</td>\n",
       "      <td>12.2089</td>\n",
       "      <td>4.4802</td>\n",
       "      <td>0.0000</td>\n",
       "      <td>...</td>\n",
       "      <td>0.0000</td>\n",
       "      <td>2.0388</td>\n",
       "      <td>5.8093</td>\n",
       "      <td>0.0000</td>\n",
       "      <td>8.9994</td>\n",
       "      <td>12.1288</td>\n",
       "      <td>8.3610</td>\n",
       "      <td>11.4528</td>\n",
       "      <td>8.8560</td>\n",
       "      <td>10.0925</td>\n",
       "    </tr>\n",
       "    <tr>\n",
       "      <th>9</th>\n",
       "      <td>TCGA-PE-A5DC-01</td>\n",
       "      <td>9.6287</td>\n",
       "      <td>4.1136</td>\n",
       "      <td>0.0000</td>\n",
       "      <td>12.1312</td>\n",
       "      <td>10.8013</td>\n",
       "      <td>10.3031</td>\n",
       "      <td>12.4242</td>\n",
       "      <td>5.9430</td>\n",
       "      <td>1.1939</td>\n",
       "      <td>...</td>\n",
       "      <td>0.5152</td>\n",
       "      <td>9.0329</td>\n",
       "      <td>4.0402</td>\n",
       "      <td>1.4420</td>\n",
       "      <td>9.4901</td>\n",
       "      <td>12.3841</td>\n",
       "      <td>8.9031</td>\n",
       "      <td>11.6460</td>\n",
       "      <td>8.2783</td>\n",
       "      <td>10.7905</td>\n",
       "    </tr>\n",
       "  </tbody>\n",
       "</table>\n",
       "<p>10 rows × 20531 columns</p>\n",
       "</div>"
      ],
      "text/plain": [
       "        Unnamed: 0  ARHGEF10L   HIF3A   RNF17    RNF10    RNF11    RNF13  \\\n",
       "0  TCGA-AR-A5QQ-01     9.5074  1.5787  0.0000  11.3676  11.1292   9.9722   \n",
       "1  TCGA-D8-A1JA-01     7.4346  3.6607  0.6245  11.9181  13.5273  10.8702   \n",
       "2  TCGA-BH-A0BQ-01     9.3216  2.7224  0.5526  11.9665  11.4105  10.4406   \n",
       "3  TCGA-BH-A0BT-01     9.0198  1.3414  0.0000  13.1881  11.0911  10.4244   \n",
       "4  TCGA-A8-A06X-01     9.6417  0.5819  0.0000  12.0036  11.2545  10.1480   \n",
       "5  TCGA-A8-A096-01     9.7665  0.2738  0.8765  11.8118  10.8554  10.4282   \n",
       "6  TCGA-BH-A0C7-01    10.0931  3.6090  0.0000  11.3820  10.7663  10.3366   \n",
       "7  TCGA-AC-A5XU-01     9.1524  0.4738  0.0000  11.5004  10.4358  10.4248   \n",
       "8  TCGA-PE-A5DE-01     9.9398  2.9378  0.0000  12.2055  11.2210   9.8265   \n",
       "9  TCGA-PE-A5DC-01     9.6287  4.1136  0.0000  12.1312  10.8013  10.3031   \n",
       "\n",
       "   GTF2IP1    REM1   MTVR2  ...   TULP2   NPY5R   GNGT2   GNGT1   TULP3  \\\n",
       "0  11.5966  3.2396  0.0000  ...  0.5819  0.0000  5.3307  0.5819  9.1928   \n",
       "1  12.3048  2.5547  0.0000  ...  1.0589  0.0000  3.1017  3.7793  9.8340   \n",
       "2  12.8186  4.7115  0.0000  ...  0.0000  2.7224  4.2976  0.0000  9.2304   \n",
       "3  12.6427  2.7553  0.0000  ...  0.0000  2.9823  4.3067  0.0000  8.7816   \n",
       "4  12.6622  4.2765  1.8007  ...  1.3163  0.5819  3.5764  0.0000  9.3024   \n",
       "5  12.4810  4.3232  0.0000  ...  0.0000  9.5174  5.3021  0.0000  9.1369   \n",
       "6  12.7240  2.2163  0.3340  ...  0.6050  1.2032  3.8365  0.0000  9.5725   \n",
       "7  13.7292  5.8810  0.0000  ...  0.0000  4.8185  3.6627  0.0000  9.5467   \n",
       "8  12.2089  4.4802  0.0000  ...  0.0000  2.0388  5.8093  0.0000  8.9994   \n",
       "9  12.4242  5.9430  1.1939  ...  0.5152  9.0329  4.0402  1.4420  9.4901   \n",
       "\n",
       "      PTRF   BCL6B    GSTK1    SELP     SELS  \n",
       "0  13.8808  7.3830  11.4289  7.8456  10.7384  \n",
       "1  10.7066  7.2467   9.1673  0.0000  10.1225  \n",
       "2  12.9973  8.3374  11.3400  8.3765   9.9367  \n",
       "3  12.3298  7.7036  11.3025  7.0585   9.3784  \n",
       "4  11.3338  7.7186  10.6898  7.0992  11.1740  \n",
       "5  12.7711  8.7307  10.5158  5.9003   9.8729  \n",
       "6  11.8181  7.9077  10.7539  6.5823   9.7063  \n",
       "7  12.8073  8.9854  11.4017  4.1152  10.2758  \n",
       "8  12.1288  8.3610  11.4528  8.8560  10.0925  \n",
       "9  12.3841  8.9031  11.6460  8.2783  10.7905  \n",
       "\n",
       "[10 rows x 20531 columns]"
      ]
     },
     "execution_count": 2,
     "metadata": {},
     "output_type": "execute_result"
    }
   ],
   "source": [
    "data = pd.read_csv(\"TCGA(1)/TCGA/dataset.csv\")\n",
    "data.head(10)"
   ]
  },
  {
   "cell_type": "code",
   "execution_count": 3,
   "id": "1f62faa7",
   "metadata": {},
   "outputs": [
    {
     "data": {
      "text/plain": [
       "(1218, 20531)"
      ]
     },
     "execution_count": 3,
     "metadata": {},
     "output_type": "execute_result"
    }
   ],
   "source": [
    "data.shape"
   ]
  },
  {
   "cell_type": "code",
   "execution_count": 4,
   "id": "3b016faa",
   "metadata": {},
   "outputs": [
    {
     "data": {
      "text/plain": [
       "Unnamed: 0    0\n",
       "ARHGEF10L     0\n",
       "HIF3A         0\n",
       "RNF17         0\n",
       "RNF10         0\n",
       "             ..\n",
       "PTRF          0\n",
       "BCL6B         0\n",
       "GSTK1         0\n",
       "SELP          0\n",
       "SELS          0\n",
       "Length: 20531, dtype: int64"
      ]
     },
     "execution_count": 4,
     "metadata": {},
     "output_type": "execute_result"
    }
   ],
   "source": [
    "data.isna().sum()"
   ]
  },
  {
   "cell_type": "code",
   "execution_count": 5,
   "id": "9fcb98af",
   "metadata": {},
   "outputs": [
    {
     "data": {
      "text/plain": [
       "0"
      ]
     },
     "execution_count": 5,
     "metadata": {},
     "output_type": "execute_result"
    }
   ],
   "source": [
    "sum(data.duplicated(subset=None, keep='first'))"
   ]
  },
  {
   "cell_type": "markdown",
   "id": "8bc98699",
   "metadata": {},
   "source": [
    "## Outcome"
   ]
  },
  {
   "cell_type": "code",
   "execution_count": 6,
   "id": "2963ed51",
   "metadata": {},
   "outputs": [
    {
     "data": {
      "text/html": [
       "<div>\n",
       "<style scoped>\n",
       "    .dataframe tbody tr th:only-of-type {\n",
       "        vertical-align: middle;\n",
       "    }\n",
       "\n",
       "    .dataframe tbody tr th {\n",
       "        vertical-align: top;\n",
       "    }\n",
       "\n",
       "    .dataframe thead th {\n",
       "        text-align: right;\n",
       "    }\n",
       "</style>\n",
       "<table border=\"1\" class=\"dataframe\">\n",
       "  <thead>\n",
       "    <tr style=\"text-align: right;\">\n",
       "      <th></th>\n",
       "      <th>Unnamed: 0</th>\n",
       "      <th>BRCA_subtype</th>\n",
       "    </tr>\n",
       "  </thead>\n",
       "  <tbody>\n",
       "    <tr>\n",
       "      <th>0</th>\n",
       "      <td>TCGA-AR-A5QQ-01</td>\n",
       "      <td>NaN</td>\n",
       "    </tr>\n",
       "    <tr>\n",
       "      <th>1</th>\n",
       "      <td>TCGA-D8-A1JA-01</td>\n",
       "      <td>Her2</td>\n",
       "    </tr>\n",
       "    <tr>\n",
       "      <th>2</th>\n",
       "      <td>TCGA-BH-A0BQ-01</td>\n",
       "      <td>LumA</td>\n",
       "    </tr>\n",
       "    <tr>\n",
       "      <th>3</th>\n",
       "      <td>TCGA-BH-A0BT-01</td>\n",
       "      <td>LumA</td>\n",
       "    </tr>\n",
       "    <tr>\n",
       "      <th>4</th>\n",
       "      <td>TCGA-A8-A06X-01</td>\n",
       "      <td>LumB</td>\n",
       "    </tr>\n",
       "    <tr>\n",
       "      <th>5</th>\n",
       "      <td>TCGA-A8-A096-01</td>\n",
       "      <td>LumB</td>\n",
       "    </tr>\n",
       "    <tr>\n",
       "      <th>6</th>\n",
       "      <td>TCGA-BH-A0C7-01</td>\n",
       "      <td>LumB</td>\n",
       "    </tr>\n",
       "    <tr>\n",
       "      <th>7</th>\n",
       "      <td>TCGA-AC-A5XU-01</td>\n",
       "      <td>NaN</td>\n",
       "    </tr>\n",
       "    <tr>\n",
       "      <th>8</th>\n",
       "      <td>TCGA-PE-A5DE-01</td>\n",
       "      <td>NaN</td>\n",
       "    </tr>\n",
       "    <tr>\n",
       "      <th>9</th>\n",
       "      <td>TCGA-PE-A5DC-01</td>\n",
       "      <td>NaN</td>\n",
       "    </tr>\n",
       "  </tbody>\n",
       "</table>\n",
       "</div>"
      ],
      "text/plain": [
       "        Unnamed: 0 BRCA_subtype\n",
       "0  TCGA-AR-A5QQ-01          NaN\n",
       "1  TCGA-D8-A1JA-01         Her2\n",
       "2  TCGA-BH-A0BQ-01         LumA\n",
       "3  TCGA-BH-A0BT-01         LumA\n",
       "4  TCGA-A8-A06X-01         LumB\n",
       "5  TCGA-A8-A096-01         LumB\n",
       "6  TCGA-BH-A0C7-01         LumB\n",
       "7  TCGA-AC-A5XU-01          NaN\n",
       "8  TCGA-PE-A5DE-01          NaN\n",
       "9  TCGA-PE-A5DC-01          NaN"
      ]
     },
     "execution_count": 6,
     "metadata": {},
     "output_type": "execute_result"
    }
   ],
   "source": [
    "outcome = pd.read_csv(\"TCGA(1)/TCGA/outcome.csv\")\n",
    "outcome.head(10)"
   ]
  },
  {
   "cell_type": "code",
   "execution_count": 7,
   "id": "a4a15a26",
   "metadata": {},
   "outputs": [
    {
     "data": {
      "text/plain": [
       "(1218, 2)"
      ]
     },
     "execution_count": 7,
     "metadata": {},
     "output_type": "execute_result"
    }
   ],
   "source": [
    "outcome.shape"
   ]
  },
  {
   "cell_type": "code",
   "execution_count": 8,
   "id": "cfc719da",
   "metadata": {},
   "outputs": [
    {
     "data": {
      "text/plain": [
       "array([nan, 'Her2', 'LumA', 'LumB', 'Basal', 'Normal'], dtype=object)"
      ]
     },
     "execution_count": 8,
     "metadata": {},
     "output_type": "execute_result"
    }
   ],
   "source": [
    "outcome['BRCA_subtype'].unique()"
   ]
  },
  {
   "cell_type": "code",
   "execution_count": 9,
   "id": "ea11c1dd",
   "metadata": {},
   "outputs": [
    {
     "data": {
      "text/plain": [
       "LumA      434\n",
       "LumB      194\n",
       "Basal     142\n",
       "Normal    119\n",
       "Her2       67\n",
       "Name: BRCA_subtype, dtype: int64"
      ]
     },
     "execution_count": 9,
     "metadata": {},
     "output_type": "execute_result"
    }
   ],
   "source": [
    "outcome['BRCA_subtype'].value_counts()"
   ]
  },
  {
   "cell_type": "code",
   "execution_count": 10,
   "id": "97272d22",
   "metadata": {},
   "outputs": [
    {
     "data": {
      "text/plain": [
       "262"
      ]
     },
     "execution_count": 10,
     "metadata": {},
     "output_type": "execute_result"
    }
   ],
   "source": [
    "len(outcome)- outcome['BRCA_subtype'].value_counts().sum()"
   ]
  },
  {
   "cell_type": "code",
   "execution_count": 22,
   "id": "d8cdb562",
   "metadata": {},
   "outputs": [],
   "source": [
    "id = 0\n",
    " \n",
    "for i in range(0, len(outcome)-1):\n",
    "    if outcome.iloc[i,0] == data.iloc[i,0]:\n",
    "        id = id + 1      \n",
    "    else:\n",
    "        print(i)\n",
    "        \n",
    "        "
   ]
  }
 ],
 "metadata": {
  "kernelspec": {
   "display_name": "Python 3 (ipykernel)",
   "language": "python",
   "name": "python3"
  },
  "language_info": {
   "codemirror_mode": {
    "name": "ipython",
    "version": 3
   },
   "file_extension": ".py",
   "mimetype": "text/x-python",
   "name": "python",
   "nbconvert_exporter": "python",
   "pygments_lexer": "ipython3",
   "version": "3.10.9"
  }
 },
 "nbformat": 4,
 "nbformat_minor": 5
}
